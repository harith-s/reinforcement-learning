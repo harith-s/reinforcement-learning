{
 "cells": [
  {
   "cell_type": "code",
   "execution_count": 115,
   "id": "c3bf1244",
   "metadata": {},
   "outputs": [],
   "source": [
    "import gymnasium as gym\n",
    "import numpy as np\n",
    "import random\n",
    "import matplotlib.pyplot as plt"
   ]
  },
  {
   "cell_type": "code",
   "execution_count": 109,
   "id": "2fe71e69",
   "metadata": {},
   "outputs": [],
   "source": [
    "def obs_to_num(obs):\n",
    "    dest = obs % 4\n",
    "    obs = (obs - dest)//4\n",
    "    pass_loc = obs % 5\n",
    "    obs = (obs - pass_loc)//5\n",
    "    taxi_col = (obs % 5)\n",
    "    obs = (obs - taxi_col)//5\n",
    "    taxi_row = obs\n",
    "    return (taxi_row,taxi_col, pass_loc,dest)"
   ]
  },
  {
   "cell_type": "code",
   "execution_count": 137,
   "id": "c4c87b07",
   "metadata": {},
   "outputs": [
    {
     "name": "stdout",
     "output_type": "stream",
     "text": [
      "0.0\n"
     ]
    }
   ],
   "source": [
    "import time\n",
    "\n",
    "# function to update q_values for monte carlo\n",
    "\n",
    "def update_q(q_values, obs_list,action_list, reward_list, freq_actions):\n",
    "    \n",
    "    new_q = q_values.copy()\n",
    "    \n",
    "    # we pop the last element because there is no action we can take after that, hence no reward we can associate with it.\n",
    "    \n",
    "    if len(obs_list) > len(reward_list): obs_list.pop()\n",
    "    \n",
    "    factor = 1\n",
    "    gamma = 0.9\n",
    "    gamma_array = []\n",
    "    \n",
    "    for _ in range(len(obs_list)):\n",
    "        gamma_array.append(factor)\n",
    "        factor *= gamma\n",
    "        \n",
    "    gamma_array = np.array(gamma_array)\n",
    "    \n",
    "\n",
    "    for i in range(len(obs_list)):\n",
    "        # current state obs_list[i], have to update according to monte carlo\n",
    "        # then the aciton is taken\n",
    "        # then the reward is awarded\n",
    "        \n",
    "        rewards = np.array(reward_list[i:])\n",
    "        g_t = np.sum(rewards*gamma_array)\n",
    "        \n",
    "        freq_actions[obs_list[i], action_list[i]] += 1 \n",
    "        n_s = freq_actions[obs_list[i], action_list[i]]\n",
    "        \n",
    "        \n",
    "        q_s_a = q_values[obs_list[i], action_list[i]]\n",
    "        q_values[obs_list[i], action_list[i]] = q_s_a + (1/n_s)*(g_t - q_s_a)\n",
    "\n",
    "\n",
    "        \n",
    "        \n",
    "        gamma_array = gamma_array[:-1]\n",
    "        \n",
    "    return q_values, freq_actions\n",
    "\n",
    "\n",
    "start = time.time()\n",
    "# q_values,freq_actions = update_q(q_values, obs_list,action_list, reward_list, freq_actions)\n",
    "print(time.time() - start)\n",
    "# with numpy.printoptions(threshold=numpy.inf):\n",
    "#     print(q_values)"
   ]
  },
  {
   "cell_type": "code",
   "execution_count": 180,
   "id": "f11e5ddb",
   "metadata": {},
   "outputs": [],
   "source": [
    "# initialising q\n",
    "\n",
    "q_values = np.zeros((500, 6))\n",
    "freq_actions = np.zeros((500, 6)).astype(int)\n",
    "\n"
   ]
  },
  {
   "cell_type": "code",
   "execution_count": 181,
   "id": "41fa585d",
   "metadata": {},
   "outputs": [
    {
     "name": "stdout",
     "output_type": "stream",
     "text": [
      "48.23024106025696\n"
     ]
    }
   ],
   "source": [
    "# Monte Carlo\n",
    "\n",
    "num_ep = 10000\n",
    "epsilon = 0\n",
    "start = time.time()\n",
    "c_reward = []\n",
    "for episode in range(num_ep):\n",
    "    \n",
    "    if episode <= 300:\n",
    "        epsilon = 1\n",
    "    else:\n",
    "        epsilon = 1/(episode - 300)\n",
    "    \n",
    "    obs_list = []\n",
    "    reward_list = []\n",
    "    action_list =[]\n",
    "    obs, info = env.reset()\n",
    "    obs_list.append(obs)\n",
    "    done, trunc = False, False\n",
    "    if render: env.render()\n",
    "    \n",
    "    while not(done):\n",
    "        if random.random() < epsilon:    \n",
    "            action = env.action_space.sample(info['action_mask'])\n",
    "            \n",
    "        else:  \n",
    "            temp = np.where(info[\"action_mask\"] == 1)[0]\n",
    "            index = np.argmax(q_values[obs, np.where(info[\"action_mask\"] == 1)[0]])\n",
    "            action = temp[index]\n",
    "#             print(action, info['action_mask'], q_values[obs])\n",
    "            \n",
    "        obs, reward, done, trunc, info = env.step(action)\n",
    "        if render: env.render()\n",
    "        curr_state = obs_to_num(obs)\n",
    "        action_list.append(action)\n",
    "        obs_list.append(obs)\n",
    "        reward_list.append(reward)\n",
    "\n",
    "#         print(obs_to_num(obs), action, reward)\n",
    "    c_reward.append(sum(reward_list))\n",
    "    old_q = q_values.copy()\n",
    "    q_values,freq_actions = update_q(q_values, obs_list,action_list, reward_list, freq_actions)\n",
    "#     print(np.max(q_values - old_q))\n",
    "    env.close()\n",
    "\n",
    "\n",
    "print(time.time() - start)"
   ]
  },
  {
   "cell_type": "code",
   "execution_count": 195,
   "id": "8400bcfd",
   "metadata": {},
   "outputs": [
    {
     "data": {
      "image/png": "[encoded data removed]",
      "text/plain": [
       "<Figure size 640x480 with 1 Axes>"
      ]
     },
     "metadata": {},
     "output_type": "display_data"
    }
   ],
   "source": [
    "# plot for Monte Carlo\n",
    "\n",
    "c_reward = np.array(c_reward)\n",
    "\n",
    "mean_rewards = np.zeros(10000)\n",
    "for i in range(10000):\n",
    "    mean_rewards[i] = np.mean(c_reward[max(0,i-50):i+50])\n",
    "        \n",
    "plt.plot(mean_rewards)\n",
    "plt.show()"
   ]
  },
  {
   "cell_type": "code",
   "execution_count": 156,
   "id": "25ca5384",
   "metadata": {},
   "outputs": [],
   "source": [
    "import json\n",
    "path = \"q_monte_carlo.json\"\n",
    "with open(path, 'a') as json_file:\n",
    "    json.dump(freq_actions.tolist(), json_file)"
   ]
  },
  {
   "cell_type": "code",
   "execution_count": 188,
   "id": "b867a5f7",
   "metadata": {},
   "outputs": [],
   "source": [
    "# to switch between rendering and just crunching numbers\n",
    "\n",
    "render = 1\n",
    "\n",
    "if render:\n",
    "    env = gym.make('Taxi-v3', render_mode = \"human\")\n",
    "else:\n",
    "    env = gym.make('Taxi-v3')\n"
   ]
  },
  {
   "cell_type": "code",
   "execution_count": 176,
   "id": "09a8c51a",
   "metadata": {},
   "outputs": [
    {
     "name": "stdout",
     "output_type": "stream",
     "text": [
      "7\n",
      "14\n",
      "9\n",
      "5\n",
      "3\n",
      "6\n",
      "14\n"
     ]
    },
    {
     "ename": "KeyboardInterrupt",
     "evalue": "",
     "output_type": "error",
     "traceback": [
      "\u001b[1;31m---------------------------------------------------------------------------\u001b[0m",
      "\u001b[1;31mKeyboardInterrupt\u001b[0m                         Traceback (most recent call last)",
      "Cell \u001b[1;32mIn[176], line 29\u001b[0m\n\u001b[0;32m     26\u001b[0m             action \u001b[38;5;241m=\u001b[39m temp[index]\n\u001b[0;32m     27\u001b[0m \u001b[38;5;66;03m#             print(action, info['action_mask'], q_values[obs])\u001b[39;00m\n\u001b[1;32m---> 29\u001b[0m         obs, reward, done, trunc, info \u001b[38;5;241m=\u001b[39m env\u001b[38;5;241m.\u001b[39mstep(action)\n\u001b[0;32m     30\u001b[0m         \u001b[38;5;28;01mif\u001b[39;00m render: env\u001b[38;5;241m.\u001b[39mrender()\n\u001b[0;32m     31\u001b[0m         curr_state \u001b[38;5;241m=\u001b[39m obs_to_num(obs)\n",
      "File \u001b[1;32m~\\anaconda3\\Lib\\site-packages\\gymnasium\\wrappers\\time_limit.py:57\u001b[0m, in \u001b[0;36mTimeLimit.step\u001b[1;34m(self, action)\u001b[0m\n\u001b[0;32m     46\u001b[0m \u001b[38;5;28;01mdef\u001b[39;00m \u001b[38;5;21mstep\u001b[39m(\u001b[38;5;28mself\u001b[39m, action):\n\u001b[0;32m     47\u001b[0m \u001b[38;5;250m    \u001b[39m\u001b[38;5;124;03m\"\"\"Steps through the environment and if the number of steps elapsed exceeds ``max_episode_steps`` then truncate.\u001b[39;00m\n\u001b[0;32m     48\u001b[0m \n\u001b[0;32m     49\u001b[0m \u001b[38;5;124;03m    Args:\u001b[39;00m\n\u001b[1;32m   (...)\u001b[0m\n\u001b[0;32m     55\u001b[0m \n\u001b[0;32m     56\u001b[0m \u001b[38;5;124;03m    \"\"\"\u001b[39;00m\n\u001b[1;32m---> 57\u001b[0m     observation, reward, terminated, truncated, info \u001b[38;5;241m=\u001b[39m \u001b[38;5;28mself\u001b[39m\u001b[38;5;241m.\u001b[39menv\u001b[38;5;241m.\u001b[39mstep(action)\n\u001b[0;32m     58\u001b[0m     \u001b[38;5;28mself\u001b[39m\u001b[38;5;241m.\u001b[39m_elapsed_steps \u001b[38;5;241m+\u001b[39m\u001b[38;5;241m=\u001b[39m \u001b[38;5;241m1\u001b[39m\n\u001b[0;32m     60\u001b[0m     \u001b[38;5;28;01mif\u001b[39;00m \u001b[38;5;28mself\u001b[39m\u001b[38;5;241m.\u001b[39m_elapsed_steps \u001b[38;5;241m>\u001b[39m\u001b[38;5;241m=\u001b[39m \u001b[38;5;28mself\u001b[39m\u001b[38;5;241m.\u001b[39m_max_episode_steps:\n",
      "File \u001b[1;32m~\\anaconda3\\Lib\\site-packages\\gymnasium\\wrappers\\order_enforcing.py:56\u001b[0m, in \u001b[0;36mOrderEnforcing.step\u001b[1;34m(self, action)\u001b[0m\n\u001b[0;32m     54\u001b[0m \u001b[38;5;28;01mif\u001b[39;00m \u001b[38;5;129;01mnot\u001b[39;00m \u001b[38;5;28mself\u001b[39m\u001b[38;5;241m.\u001b[39m_has_reset:\n\u001b[0;32m     55\u001b[0m     \u001b[38;5;28;01mraise\u001b[39;00m ResetNeeded(\u001b[38;5;124m\"\u001b[39m\u001b[38;5;124mCannot call env.step() before calling env.reset()\u001b[39m\u001b[38;5;124m\"\u001b[39m)\n\u001b[1;32m---> 56\u001b[0m \u001b[38;5;28;01mreturn\u001b[39;00m \u001b[38;5;28mself\u001b[39m\u001b[38;5;241m.\u001b[39menv\u001b[38;5;241m.\u001b[39mstep(action)\n",
      "File \u001b[1;32m~\\anaconda3\\Lib\\site-packages\\gymnasium\\wrappers\\env_checker.py:51\u001b[0m, in \u001b[0;36mPassiveEnvChecker.step\u001b[1;34m(self, action)\u001b[0m\n\u001b[0;32m     49\u001b[0m     \u001b[38;5;28;01mreturn\u001b[39;00m env_step_passive_checker(\u001b[38;5;28mself\u001b[39m\u001b[38;5;241m.\u001b[39menv, action)\n\u001b[0;32m     50\u001b[0m \u001b[38;5;28;01melse\u001b[39;00m:\n\u001b[1;32m---> 51\u001b[0m     \u001b[38;5;28;01mreturn\u001b[39;00m \u001b[38;5;28mself\u001b[39m\u001b[38;5;241m.\u001b[39menv\u001b[38;5;241m.\u001b[39mstep(action)\n",
      "File \u001b[1;32m~\\anaconda3\\Lib\\site-packages\\gymnasium\\envs\\toy_text\\taxi.py:293\u001b[0m, in \u001b[0;36mTaxiEnv.step\u001b[1;34m(self, a)\u001b[0m\n\u001b[0;32m    290\u001b[0m \u001b[38;5;28mself\u001b[39m\u001b[38;5;241m.\u001b[39mlastaction \u001b[38;5;241m=\u001b[39m a\n\u001b[0;32m    292\u001b[0m \u001b[38;5;28;01mif\u001b[39;00m \u001b[38;5;28mself\u001b[39m\u001b[38;5;241m.\u001b[39mrender_mode \u001b[38;5;241m==\u001b[39m \u001b[38;5;124m\"\u001b[39m\u001b[38;5;124mhuman\u001b[39m\u001b[38;5;124m\"\u001b[39m:\n\u001b[1;32m--> 293\u001b[0m     \u001b[38;5;28mself\u001b[39m\u001b[38;5;241m.\u001b[39mrender()\n\u001b[0;32m    294\u001b[0m \u001b[38;5;28;01mreturn\u001b[39;00m (\u001b[38;5;28mint\u001b[39m(s), r, t, \u001b[38;5;28;01mFalse\u001b[39;00m, {\u001b[38;5;124m\"\u001b[39m\u001b[38;5;124mprob\u001b[39m\u001b[38;5;124m\"\u001b[39m: p, \u001b[38;5;124m\"\u001b[39m\u001b[38;5;124maction_mask\u001b[39m\u001b[38;5;124m\"\u001b[39m: \u001b[38;5;28mself\u001b[39m\u001b[38;5;241m.\u001b[39maction_mask(s)})\n",
      "File \u001b[1;32m~\\anaconda3\\Lib\\site-packages\\gymnasium\\envs\\toy_text\\taxi.py:323\u001b[0m, in \u001b[0;36mTaxiEnv.render\u001b[1;34m(self)\u001b[0m\n\u001b[0;32m    321\u001b[0m     \u001b[38;5;28;01mreturn\u001b[39;00m \u001b[38;5;28mself\u001b[39m\u001b[38;5;241m.\u001b[39m_render_text()\n\u001b[0;32m    322\u001b[0m \u001b[38;5;28;01melse\u001b[39;00m:  \u001b[38;5;66;03m# self.render_mode in {\"human\", \"rgb_array\"}:\u001b[39;00m\n\u001b[1;32m--> 323\u001b[0m     \u001b[38;5;28;01mreturn\u001b[39;00m \u001b[38;5;28mself\u001b[39m\u001b[38;5;241m.\u001b[39m_render_gui(\u001b[38;5;28mself\u001b[39m\u001b[38;5;241m.\u001b[39mrender_mode)\n",
      "File \u001b[1;32m~\\anaconda3\\Lib\\site-packages\\gymnasium\\envs\\toy_text\\taxi.py:449\u001b[0m, in \u001b[0;36mTaxiEnv._render_gui\u001b[1;34m(self, mode)\u001b[0m\n\u001b[0;32m    447\u001b[0m \u001b[38;5;28;01mif\u001b[39;00m mode \u001b[38;5;241m==\u001b[39m \u001b[38;5;124m\"\u001b[39m\u001b[38;5;124mhuman\u001b[39m\u001b[38;5;124m\"\u001b[39m:\n\u001b[0;32m    448\u001b[0m     pygame\u001b[38;5;241m.\u001b[39mdisplay\u001b[38;5;241m.\u001b[39mupdate()\n\u001b[1;32m--> 449\u001b[0m     \u001b[38;5;28mself\u001b[39m\u001b[38;5;241m.\u001b[39mclock\u001b[38;5;241m.\u001b[39mtick(\u001b[38;5;28mself\u001b[39m\u001b[38;5;241m.\u001b[39mmetadata[\u001b[38;5;124m\"\u001b[39m\u001b[38;5;124mrender_fps\u001b[39m\u001b[38;5;124m\"\u001b[39m])\n\u001b[0;32m    450\u001b[0m \u001b[38;5;28;01melif\u001b[39;00m mode \u001b[38;5;241m==\u001b[39m \u001b[38;5;124m\"\u001b[39m\u001b[38;5;124mrgb_array\u001b[39m\u001b[38;5;124m\"\u001b[39m:\n\u001b[0;32m    451\u001b[0m     \u001b[38;5;28;01mreturn\u001b[39;00m np\u001b[38;5;241m.\u001b[39mtranspose(\n\u001b[0;32m    452\u001b[0m         np\u001b[38;5;241m.\u001b[39marray(pygame\u001b[38;5;241m.\u001b[39msurfarray\u001b[38;5;241m.\u001b[39mpixels3d(\u001b[38;5;28mself\u001b[39m\u001b[38;5;241m.\u001b[39mwindow)), axes\u001b[38;5;241m=\u001b[39m(\u001b[38;5;241m1\u001b[39m, \u001b[38;5;241m0\u001b[39m, \u001b[38;5;241m2\u001b[39m)\n\u001b[0;32m    453\u001b[0m     )\n",
      "\u001b[1;31mKeyboardInterrupt\u001b[0m: "
     ]
    }
   ],
   "source": [
    "# cell used for rendering Monte Carlo\n",
    "                \n",
    "# print(q_values)\n",
    "\n",
    "epsilon = 0\n",
    "start = time.time()\n",
    "for episode in range(10):\n",
    "    \n",
    "    epsilon = 0\n",
    "    \n",
    "    obs_list = []\n",
    "    reward_list = []\n",
    "    action_list =[]\n",
    "    obs, info = env.reset()\n",
    "    obs_list.append(obs)\n",
    "    done, trunc = False, False\n",
    "    if render: env.render()\n",
    "    \n",
    "    while not(done):\n",
    "        if random.random() < epsilon:    \n",
    "            action = env.action_space.sample(info['action_mask'])\n",
    "            \n",
    "        else:  \n",
    "            temp = np.where(info[\"action_mask\"] == 1)[0]\n",
    "            index = np.argmax(q_values[obs, np.where(info[\"action_mask\"] == 1)[0]])\n",
    "            action = temp[index]\n",
    "#             print(action, info['action_mask'], q_values[obs])\n",
    "            \n",
    "        obs, reward, done, trunc, info = env.step(action)\n",
    "        if render: env.render()\n",
    "        curr_state = obs_to_num(obs)\n",
    "        action_list.append(action)\n",
    "        obs_list.append(obs)\n",
    "        reward_list.append(reward)\n",
    "\n",
    "#         print(obs_to_num(obs), action, reward)\n",
    "#     q_values,freq_actions = update_q(q_values, obs_list,action_list, reward_list, freq_actions)\n",
    "    print(sum(reward_list))\n",
    "\n",
    "\n",
    "\n",
    "print(time.time() - start)"
   ]
  },
  {
   "cell_type": "code",
   "execution_count": 187,
   "id": "be3813a1",
   "metadata": {},
   "outputs": [
    {
     "data": {
      "image/png": "[encoded data removed]",
      "text/plain": [
       "<Figure size 640x480 with 1 Axes>"
      ]
     },
     "metadata": {},
     "output_type": "display_data"
    }
   ],
   "source": [
    "# q - learning\n",
    "\n",
    "Q = np.zeros((500, 6))\n",
    "\n",
    "alp = 0.1\n",
    "gamma = 0.99\n",
    "epsilon = 1\n",
    "\n",
    "num_ep = 3000\n",
    "\n",
    "total_rewards = np.zeros(num_ep)\n",
    "\n",
    "for i in range(num_ep):\n",
    "    state, info = env.reset()\n",
    "    score = 0\n",
    "    done, trunc = False, False\n",
    "    \n",
    "    while not done:\n",
    "        if np.random.random() < epsilon:\n",
    "            action = env.action_space.sample(info['action_mask'])\n",
    "        else:\n",
    "            temp = np.where(info[\"action_mask\"] == 1)[0]\n",
    "            index = np.argmax(Q[state, temp])\n",
    "            action = temp[index]\n",
    "        state_, reward, done, trunc, info = env.step(action)\n",
    "        score += reward\n",
    "        \n",
    "        temp_ = np.where(info[\"action_mask\"] == 1)[0]\n",
    "        index_ = np.argmax(Q[state_, temp_])\n",
    "        action_ = temp_[index_]\n",
    "        \n",
    "        Q[state][action] = Q[state][action] + alp*(reward + gamma*Q[state_][action_] - Q[state][action])\n",
    "        state = state_\n",
    "    epsilon = epsilon - 0.001\n",
    "    total_rewards[i] = score\n",
    "#     if i % 10 == 0: print(score)\n",
    "\n",
    "# print(Q)\n",
    "mean_rewards = np.zeros(num_ep)\n",
    "for i in range(num_ep):\n",
    "    mean_rewards[i] = np.mean(total_rewards[max(0,i-50):i+1])\n",
    "        \n",
    "plt.plot(mean_rewards)\n",
    "plt.show()"
   ]
  },
  {
   "cell_type": "code",
   "execution_count": 189,
   "id": "37ed12e7",
   "metadata": {},
   "outputs": [
    {
     "name": "stdout",
     "output_type": "stream",
     "text": [
      "7\n",
      "7\n",
      "8\n",
      "10\n",
      "7\n",
      "8\n"
     ]
    },
    {
     "ename": "KeyboardInterrupt",
     "evalue": "",
     "output_type": "error",
     "traceback": [
      "\u001b[1;31m---------------------------------------------------------------------------\u001b[0m",
      "\u001b[1;31mKeyboardInterrupt\u001b[0m                         Traceback (most recent call last)",
      "Cell \u001b[1;32mIn[189], line 26\u001b[0m\n\u001b[0;32m     23\u001b[0m \u001b[38;5;66;03m#             print(action, info['action_mask'], q_values[obs])\u001b[39;00m\n\u001b[0;32m     25\u001b[0m         obs, reward, done, trunc, info \u001b[38;5;241m=\u001b[39m env\u001b[38;5;241m.\u001b[39mstep(action)\n\u001b[1;32m---> 26\u001b[0m         \u001b[38;5;28;01mif\u001b[39;00m render: env\u001b[38;5;241m.\u001b[39mrender()\n\u001b[0;32m     28\u001b[0m         reward_list\u001b[38;5;241m.\u001b[39mappend(reward)\n\u001b[0;32m     30\u001b[0m \u001b[38;5;66;03m#         print(obs_to_num(obs), action, reward)\u001b[39;00m\n\u001b[0;32m     31\u001b[0m \u001b[38;5;66;03m#     q_values,freq_actions = update_q(q_values, obs_list,action_list, reward_list, freq_actions)\u001b[39;00m\n",
      "File \u001b[1;32m~\\anaconda3\\Lib\\site-packages\\gymnasium\\core.py:471\u001b[0m, in \u001b[0;36mWrapper.render\u001b[1;34m(self)\u001b[0m\n\u001b[0;32m    469\u001b[0m \u001b[38;5;28;01mdef\u001b[39;00m \u001b[38;5;21mrender\u001b[39m(\u001b[38;5;28mself\u001b[39m) \u001b[38;5;241m-\u001b[39m\u001b[38;5;241m>\u001b[39m RenderFrame \u001b[38;5;241m|\u001b[39m \u001b[38;5;28mlist\u001b[39m[RenderFrame] \u001b[38;5;241m|\u001b[39m \u001b[38;5;28;01mNone\u001b[39;00m:\n\u001b[0;32m    470\u001b[0m \u001b[38;5;250m    \u001b[39m\u001b[38;5;124;03m\"\"\"Uses the :meth:`render` of the :attr:`env` that can be overwritten to change the returned data.\"\"\"\u001b[39;00m\n\u001b[1;32m--> 471\u001b[0m     \u001b[38;5;28;01mreturn\u001b[39;00m \u001b[38;5;28mself\u001b[39m\u001b[38;5;241m.\u001b[39menv\u001b[38;5;241m.\u001b[39mrender()\n",
      "File \u001b[1;32m~\\anaconda3\\Lib\\site-packages\\gymnasium\\wrappers\\order_enforcing.py:70\u001b[0m, in \u001b[0;36mOrderEnforcing.render\u001b[1;34m(self, *args, **kwargs)\u001b[0m\n\u001b[0;32m     65\u001b[0m \u001b[38;5;28;01mif\u001b[39;00m \u001b[38;5;129;01mnot\u001b[39;00m \u001b[38;5;28mself\u001b[39m\u001b[38;5;241m.\u001b[39m_disable_render_order_enforcing \u001b[38;5;129;01mand\u001b[39;00m \u001b[38;5;129;01mnot\u001b[39;00m \u001b[38;5;28mself\u001b[39m\u001b[38;5;241m.\u001b[39m_has_reset:\n\u001b[0;32m     66\u001b[0m     \u001b[38;5;28;01mraise\u001b[39;00m ResetNeeded(\n\u001b[0;32m     67\u001b[0m         \u001b[38;5;124m\"\u001b[39m\u001b[38;5;124mCannot call `env.render()` before calling `env.reset()`, if this is a intended action, \u001b[39m\u001b[38;5;124m\"\u001b[39m\n\u001b[0;32m     68\u001b[0m         \u001b[38;5;124m\"\u001b[39m\u001b[38;5;124mset `disable_render_order_enforcing=True` on the OrderEnforcer wrapper.\u001b[39m\u001b[38;5;124m\"\u001b[39m\n\u001b[0;32m     69\u001b[0m     )\n\u001b[1;32m---> 70\u001b[0m \u001b[38;5;28;01mreturn\u001b[39;00m \u001b[38;5;28mself\u001b[39m\u001b[38;5;241m.\u001b[39menv\u001b[38;5;241m.\u001b[39mrender(\u001b[38;5;241m*\u001b[39margs, \u001b[38;5;241m*\u001b[39m\u001b[38;5;241m*\u001b[39mkwargs)\n",
      "File \u001b[1;32m~\\anaconda3\\Lib\\site-packages\\gymnasium\\wrappers\\env_checker.py:67\u001b[0m, in \u001b[0;36mPassiveEnvChecker.render\u001b[1;34m(self, *args, **kwargs)\u001b[0m\n\u001b[0;32m     65\u001b[0m     \u001b[38;5;28;01mreturn\u001b[39;00m env_render_passive_checker(\u001b[38;5;28mself\u001b[39m\u001b[38;5;241m.\u001b[39menv, \u001b[38;5;241m*\u001b[39margs, \u001b[38;5;241m*\u001b[39m\u001b[38;5;241m*\u001b[39mkwargs)\n\u001b[0;32m     66\u001b[0m \u001b[38;5;28;01melse\u001b[39;00m:\n\u001b[1;32m---> 67\u001b[0m     \u001b[38;5;28;01mreturn\u001b[39;00m \u001b[38;5;28mself\u001b[39m\u001b[38;5;241m.\u001b[39menv\u001b[38;5;241m.\u001b[39mrender(\u001b[38;5;241m*\u001b[39margs, \u001b[38;5;241m*\u001b[39m\u001b[38;5;241m*\u001b[39mkwargs)\n",
      "File \u001b[1;32m~\\anaconda3\\Lib\\site-packages\\gymnasium\\envs\\toy_text\\taxi.py:323\u001b[0m, in \u001b[0;36mTaxiEnv.render\u001b[1;34m(self)\u001b[0m\n\u001b[0;32m    321\u001b[0m     \u001b[38;5;28;01mreturn\u001b[39;00m \u001b[38;5;28mself\u001b[39m\u001b[38;5;241m.\u001b[39m_render_text()\n\u001b[0;32m    322\u001b[0m \u001b[38;5;28;01melse\u001b[39;00m:  \u001b[38;5;66;03m# self.render_mode in {\"human\", \"rgb_array\"}:\u001b[39;00m\n\u001b[1;32m--> 323\u001b[0m     \u001b[38;5;28;01mreturn\u001b[39;00m \u001b[38;5;28mself\u001b[39m\u001b[38;5;241m.\u001b[39m_render_gui(\u001b[38;5;28mself\u001b[39m\u001b[38;5;241m.\u001b[39mrender_mode)\n",
      "File \u001b[1;32m~\\anaconda3\\Lib\\site-packages\\gymnasium\\envs\\toy_text\\taxi.py:449\u001b[0m, in \u001b[0;36mTaxiEnv._render_gui\u001b[1;34m(self, mode)\u001b[0m\n\u001b[0;32m    447\u001b[0m \u001b[38;5;28;01mif\u001b[39;00m mode \u001b[38;5;241m==\u001b[39m \u001b[38;5;124m\"\u001b[39m\u001b[38;5;124mhuman\u001b[39m\u001b[38;5;124m\"\u001b[39m:\n\u001b[0;32m    448\u001b[0m     pygame\u001b[38;5;241m.\u001b[39mdisplay\u001b[38;5;241m.\u001b[39mupdate()\n\u001b[1;32m--> 449\u001b[0m     \u001b[38;5;28mself\u001b[39m\u001b[38;5;241m.\u001b[39mclock\u001b[38;5;241m.\u001b[39mtick(\u001b[38;5;28mself\u001b[39m\u001b[38;5;241m.\u001b[39mmetadata[\u001b[38;5;124m\"\u001b[39m\u001b[38;5;124mrender_fps\u001b[39m\u001b[38;5;124m\"\u001b[39m])\n\u001b[0;32m    450\u001b[0m \u001b[38;5;28;01melif\u001b[39;00m mode \u001b[38;5;241m==\u001b[39m \u001b[38;5;124m\"\u001b[39m\u001b[38;5;124mrgb_array\u001b[39m\u001b[38;5;124m\"\u001b[39m:\n\u001b[0;32m    451\u001b[0m     \u001b[38;5;28;01mreturn\u001b[39;00m np\u001b[38;5;241m.\u001b[39mtranspose(\n\u001b[0;32m    452\u001b[0m         np\u001b[38;5;241m.\u001b[39marray(pygame\u001b[38;5;241m.\u001b[39msurfarray\u001b[38;5;241m.\u001b[39mpixels3d(\u001b[38;5;28mself\u001b[39m\u001b[38;5;241m.\u001b[39mwindow)), axes\u001b[38;5;241m=\u001b[39m(\u001b[38;5;241m1\u001b[39m, \u001b[38;5;241m0\u001b[39m, \u001b[38;5;241m2\u001b[39m)\n\u001b[0;32m    453\u001b[0m     )\n",
      "\u001b[1;31mKeyboardInterrupt\u001b[0m: "
     ]
    }
   ],
   "source": [
    "# For rendering Q-Learning\n",
    "\n",
    "\n",
    "for episode in range(10):\n",
    "    \n",
    "    epsilon = 0\n",
    "    \n",
    "    reward_list = []\n",
    "\n",
    "    obs, info = env.reset()\n",
    "    done, trunc = False, False\n",
    "    if render: env.render()\n",
    "    \n",
    "    while not(done):\n",
    "        if random.random() < epsilon:    \n",
    "            action = env.action_space.sample(info['action_mask'])\n",
    "            \n",
    "        else:  \n",
    "            temp = np.where(info[\"action_mask\"] == 1)[0]\n",
    "            index = np.argmax(Q[obs, np.where(info[\"action_mask\"] == 1)[0]])\n",
    "            action = temp[index]\n",
    "#             print(action, info['action_mask'], q_values[obs])\n",
    "            \n",
    "        obs, reward, done, trunc, info = env.step(action)\n",
    "        if render: env.render()\n",
    "\n",
    "        reward_list.append(reward)\n",
    "\n",
    "#         print(obs_to_num(obs), action, reward)\n",
    "#     q_values,freq_actions = update_q(q_values, obs_list,action_list, reward_list, freq_actions)\n",
    "    print(sum(reward_list))\n",
    "\n",
    "\n",
    "\n",
    "print(time.time() - start)"
   ]
  },
  {
   "cell_type": "code",
   "execution_count": null,
   "id": "c2ca5a6f",
   "metadata": {},
   "outputs": [],
   "source": []
  },
  {
   "cell_type": "code",
   "execution_count": null,
   "id": "8716d2ab",
   "metadata": {},
   "outputs": [],
   "source": [
    "# beyond this is unused code"
   ]
  },
  {
   "cell_type": "code",
   "execution_count": null,
   "id": "e7555e0e",
   "metadata": {},
   "outputs": [],
   "source": []
  },
  {
   "cell_type": "code",
   "execution_count": null,
   "id": "399b093c",
   "metadata": {},
   "outputs": [],
   "source": []
  },
  {
   "cell_type": "code",
   "execution_count": null,
   "id": "11407d5b",
   "metadata": {},
   "outputs": [],
   "source": [
    "action = np.argmax(q_values[obs, np.where(info[\"action_mask\"] == 1)[0]])"
   ]
  },
  {
   "cell_type": "code",
   "execution_count": null,
   "id": "a3aeac72",
   "metadata": {},
   "outputs": [],
   "source": [
    "import numpy as np\n",
    "a = np.array([1,2,3,4])\n",
    "b = np.array([1,0.9,0.81,0.729])\n",
    "a*b"
   ]
  },
  {
   "cell_type": "code",
   "execution_count": null,
   "id": "5e70c4b4",
   "metadata": {},
   "outputs": [],
   "source": [
    "jupyter notebook --NotebookApp.iopub_data_rate_limit=1.0e10 "
   ]
  },
  {
   "cell_type": "code",
   "execution_count": 11,
   "id": "71c35241",
   "metadata": {},
   "outputs": [],
   "source": [
    "env.close()"
   ]
  },
  {
   "cell_type": "code",
   "execution_count": null,
   "id": "85568ccf",
   "metadata": {},
   "outputs": [],
   "source": [
    "# first episode we select random actions\n",
    "                \n",
    "# print(q_values)\n",
    "\n",
    "epsilon = 0\n",
    "start = time.time()\n",
    "for episode in range(3):\n",
    "    \n",
    "    epsilon = 1/(episode + 1)\n",
    "    \n",
    "    obs_list = []\n",
    "    reward_list = []\n",
    "    action_list =[]\n",
    "    obs, info = env.reset()\n",
    "    obs_list.append(obs)\n",
    "    done, trunc = False, False\n",
    "    if render: env.render()\n",
    "    \n",
    "    while not(done):\n",
    "        if random.random() < epsilon:    \n",
    "            action = env.action_space.sample()\n",
    "#             print(\"random\")\n",
    "        else:  \n",
    "            action = np.argmax(q_values[obs])\n",
    "#             print(\"greedy\")\n",
    "#             print(action, info['action_mask'], q_values[obs])\n",
    "            \n",
    "        obs, reward, done, trunc, info = env.step(action)\n",
    "        if render: env.render()\n",
    "        curr_state = obs_to_num(obs)\n",
    "#         if reward == -10: print(\"yes\")\n",
    "        action_list.append(action)\n",
    "        obs_list.append(obs)\n",
    "        reward_list.append(reward)\n",
    "\n",
    "#         print(obs_to_num(obs), action, reward)\n",
    "    q_values,freq_actions = update_q(q_values, obs_list,action_list, reward_list, freq_actions)\n",
    "    env.close()\n",
    "\n",
    "\n",
    "print(time.time() - start)"
   ]
  },
  {
   "cell_type": "code",
   "execution_count": 43,
   "id": "b4aed345",
   "metadata": {},
   "outputs": [],
   "source": [
    "monte_carlo = q_values.copy()"
   ]
  },
  {
   "cell_type": "code",
   "execution_count": 44,
   "id": "a6349a56",
   "metadata": {},
   "outputs": [],
   "source": [
    "f_monte_carlo = freq_actions.copy()"
   ]
  },
  {
   "cell_type": "code",
   "execution_count": 190,
   "id": "c1f4e763",
   "metadata": {},
   "outputs": [],
   "source": [
    "import json\n",
    "path = \"Q_learning.json\"\n",
    "with open(path, 'a') as json_file:\n",
    "    json.dump(Q.tolist(), json_file)"
   ]
  },
  {
   "cell_type": "code",
   "execution_count": null,
   "id": "5ab38389",
   "metadata": {},
   "outputs": [],
   "source": []
  }
 ],
 "metadata": {
  "kernelspec": {
   "display_name": "Python 3 (ipykernel)",
   "language": "python",
   "name": "python3"
  },
  "language_info": {
   "codemirror_mode": {
    "name": "ipython",
    "version": 3
   },
   "file_extension": ".py",
   "mimetype": "text/x-python",
   "name": "python",
   "nbconvert_exporter": "python",
   "pygments_lexer": "ipython3",
   "version": "3.11.5"
  }
 },
 "nbformat": 4,
 "nbformat_minor": 5
}
